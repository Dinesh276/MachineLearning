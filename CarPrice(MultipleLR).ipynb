{
 "cells": [
  {
   "cell_type": "markdown",
   "metadata": {},
   "source": [
    "# Multiple Linear regression "
   ]
  },
  {
   "cell_type": "markdown",
   "metadata": {},
   "source": [
    "You are required to model the price of cars with the available independent variables.\n",
    "It will be used by the management to understand how exactly the prices vary with the independent variables.\n",
    "They can accordingly manipulate the design of the cars, the business strategy etc. to meet certain price levels.\n",
    "Further, the model will be a good way for management to understand the pricing dynamics of a new market.\n"
   ]
  },
  {
   "cell_type": "code",
   "execution_count": 1,
   "metadata": {},
   "outputs": [],
   "source": [
    "#importing libraries\n",
    "import pandas as pd\n",
    "import numpy as np\n",
    "import matplotlib.pyplot as plt"
   ]
  },
  {
   "cell_type": "code",
   "execution_count": 3,
   "metadata": {},
   "outputs": [],
   "source": [
    "#importing data set\n",
    "dataset=pd.read_csv('CarPrice.csv')\n",
    "orgdata=dataset\n",
    "dataset=dataset.drop(columns=[\"CarName\",\"car_ID\"])\n",
    "y=dataset.iloc[:,23:24]\n",
    "x=dataset.iloc[:,0:23]"
   ]
  },
  {
   "cell_type": "code",
   "execution_count": 4,
   "metadata": {},
   "outputs": [],
   "source": [
    "#encoding\n",
    "from sklearn.compose import ColumnTransformer\n",
    "from sklearn.preprocessing import OneHotEncoder\n",
    "ct = ColumnTransformer(transformers=[('encoder', OneHotEncoder(), [1,2,3,4,5,6,12,13,15])], remainder='passthrough')\n",
    "x=np.array(ct.fit_transform(x))\n"
   ]
  },
  {
   "cell_type": "code",
   "execution_count": 5,
   "metadata": {},
   "outputs": [],
   "source": [
    "#removing dummy trap\n",
    "x=x[:,1:]\n"
   ]
  },
  {
   "cell_type": "code",
   "execution_count": 6,
   "metadata": {},
   "outputs": [],
   "source": [
    "#splitting data set\n",
    "from sklearn.model_selection import train_test_split\n",
    "x_train,x_test,y_train,y_test=train_test_split(x,y,test_size=.20,random_state=3)\n"
   ]
  },
  {
   "cell_type": "code",
   "execution_count": 7,
   "metadata": {},
   "outputs": [
    {
     "data": {
      "text/plain": [
       "LinearRegression()"
      ]
     },
     "execution_count": 7,
     "metadata": {},
     "output_type": "execute_result"
    }
   ],
   "source": [
    "#regression model\n",
    "from sklearn.linear_model import LinearRegression\n",
    "mlr=LinearRegression()\n",
    "mlr.fit(x_train,y_train)"
   ]
  },
  {
   "cell_type": "code",
   "execution_count": 8,
   "metadata": {},
   "outputs": [],
   "source": [
    "#pridiction based on this\n",
    "y_prid= mlr.predict(x_test)"
   ]
  },
  {
   "cell_type": "code",
   "execution_count": 9,
   "metadata": {},
   "outputs": [
    {
     "name": "stdout",
     "output_type": "stream",
     "text": [
      "scores : [-2.84145222 -0.06528857  0.9669261   0.68010869  0.4147697   0.38938892\n",
      " -0.18444716  0.01538951  0.8008238  -0.55859581]\n"
     ]
    }
   ],
   "source": [
    "#score checking\n",
    "from sklearn.model_selection import cross_val_score\n",
    "scores = cross_val_score(mlr, x_test, y_test, cv= 10)\n",
    "print(\"scores :\",scores)"
   ]
  },
  {
   "cell_type": "code",
   "execution_count": 10,
   "metadata": {},
   "outputs": [
    {
     "name": "stdout",
     "output_type": "stream",
     "text": [
      "3.855512457844486e+25\n"
     ]
    }
   ],
   "source": [
    "from sklearn.metrics import mean_squared_error\n",
    "MSE = mean_squared_error(y_test, y_prid)\n",
    "print(MSE)"
   ]
  },
  {
   "cell_type": "code",
   "execution_count": 11,
   "metadata": {},
   "outputs": [
    {
     "name": "stdout",
     "output_type": "stream",
     "text": [
      "                            OLS Regression Results                            \n",
      "==============================================================================\n",
      "Dep. Variable:                  price   R-squared:                       0.940\n",
      "Model:                            OLS   Adj. R-squared:                  0.924\n",
      "Method:                 Least Squares   F-statistic:                     61.79\n",
      "Date:                Sat, 23 Jan 2021   Prob (F-statistic):           4.86e-80\n",
      "Time:                        22:57:21   Log-Likelihood:                -1844.9\n",
      "No. Observations:                 205   AIC:                             3774.\n",
      "Df Residuals:                     163   BIC:                             3913.\n",
      "Df Model:                          41                                         \n",
      "Covariance Type:            nonrobust                                         \n",
      "==============================================================================\n",
      "                 coef    std err          t      P>|t|      [0.025      0.975]\n",
      "------------------------------------------------------------------------------\n",
      "const      -8353.4709   3988.563     -2.094      0.038   -1.62e+04    -477.556\n",
      "x1         -9995.6436   3245.713     -3.080      0.002   -1.64e+04   -3586.579\n",
      "x2         -4989.7442   2092.204     -2.385      0.018   -9121.062    -858.427\n",
      "x3         -3363.7267   1992.273     -1.688      0.093   -7297.718     570.265\n",
      "x4         -4270.5357   2036.188     -2.097      0.038   -8291.242    -249.830\n",
      "x5         -4082.9352   1994.896     -2.047      0.042   -8022.105    -143.765\n",
      "x6           710.3249   1090.607      0.651      0.516   -1443.214    2863.863\n",
      "x7         -2496.7101   1162.202     -2.148      0.033   -4791.622    -201.798\n",
      "x8         -2570.5092    955.331     -2.691      0.008   -4456.930    -684.088\n",
      "x9         -1441.2706    998.413     -1.444      0.151   -3412.761     530.220\n",
      "x10        -2555.3060   1124.660     -2.272      0.024   -4776.088    -334.524\n",
      "x11        -3153.4290   1384.897     -2.277      0.024   -5888.081    -418.777\n",
      "x12        -3079.3803   1504.123     -2.047      0.042   -6049.459    -109.301\n",
      "x13        -2120.6616   1461.043     -1.451      0.149   -5005.674     764.351\n",
      "x14        -8024.2473   2170.613     -3.697      0.000   -1.23e+04   -3738.102\n",
      "x15         -329.2236   2541.105     -0.130      0.897   -5346.952    4688.505\n",
      "x16         -154.0092   1175.703     -0.131      0.896   -2475.581    2167.563\n",
      "x17        -7343.3002   4073.641     -1.803      0.073   -1.54e+04     700.612\n",
      "x18        -1205.0885   1667.855     -0.723      0.471   -4498.476    2088.299\n",
      "x19         2971.6372   1128.623      2.633      0.009     743.031    5200.244\n",
      "x20         1079.6482   1359.643      0.794      0.428   -1605.136    3764.432\n",
      "x21        -5759.2670   1157.800     -4.974      0.000   -8045.487   -3473.047\n",
      "x22         2056.9086   1430.572      1.438      0.152    -767.935    4881.752\n",
      "x23         4337.0786   2190.970      1.980      0.049      10.734    8663.423\n",
      "x24        -4943.2865   1611.215     -3.068      0.003   -8124.832   -1761.741\n",
      "x25        -5542.0097   1578.387     -3.511      0.001   -8658.731   -2425.289\n",
      "x26        -2232.9517    939.016     -2.378      0.019   -4087.157    -378.747\n",
      "x27         3874.1629   3006.751      1.288      0.199   -2063.042    9811.368\n",
      "x28        -5903.3730   4329.794     -1.363      0.175   -1.45e+04    2646.344\n",
      "x29         2056.9086   1430.572      1.438      0.152    -767.935    4881.752\n",
      "x30         -137.6346   1065.150     -0.129      0.897   -2240.906    1965.637\n",
      "x31         -176.7030    798.967     -0.221      0.825   -1754.363    1400.957\n",
      "x32        -1761.2550   2390.527     -0.737      0.462   -6481.649    2959.139\n",
      "x33         1642.1726   4532.129      0.362      0.718   -7307.080    1.06e+04\n",
      "x34        -3617.3371   2187.380     -1.654      0.100   -7936.592     701.918\n",
      "x35         -382.0020    815.848     -0.468      0.640   -1992.995    1228.991\n",
      "x36        -3164.3872   1161.081     -2.725      0.007   -5457.086    -871.689\n",
      "x37         -756.3248   2089.461     -0.362      0.718   -4882.226    3369.577\n",
      "x38           73.8778    238.601      0.310      0.757    -397.269     545.025\n",
      "x39           48.8156     96.753      0.505      0.615    -142.235     239.866\n",
      "x40          -61.3023     48.754     -1.257      0.210    -157.572      34.968\n",
      "x41          693.5728    239.396      2.897      0.004     220.855    1166.290\n",
      "x42           89.4347    127.847      0.700      0.485    -163.015     341.885\n",
      "x43            3.9419      1.715      2.299      0.023       0.556       7.328\n",
      "x44          117.3636     25.995      4.515      0.000      66.033     168.694\n",
      "x45        -1882.3376   1597.670     -1.178      0.240   -5037.136    1272.461\n",
      "x46        -4453.7640    900.932     -4.944      0.000   -6232.766   -2674.762\n",
      "x47         -800.3216    525.882     -1.522      0.130   -1838.742     238.099\n",
      "x48            9.7913     22.272      0.440      0.661     -34.187      53.770\n",
      "x49            2.2021      0.619      3.555      0.000       0.979       3.425\n",
      "x50         -147.7491    147.375     -1.003      0.318    -438.759     143.261\n",
      "x51          191.6090    134.739      1.422      0.157     -74.451     457.669\n",
      "==============================================================================\n",
      "Omnibus:                       32.144   Durbin-Watson:                   1.451\n",
      "Prob(Omnibus):                  0.000   Jarque-Bera (JB):               84.620\n",
      "Skew:                           0.659   Prob(JB):                     4.22e-19\n",
      "Kurtosis:                       5.858   Cond. No.                     1.00e+16\n",
      "==============================================================================\n",
      "\n",
      "Notes:\n",
      "[1] Standard Errors assume that the covariance matrix of the errors is correctly specified.\n",
      "[2] The smallest eigenvalue is 6.73e-23. This might indicate that there are\n",
      "strong multicollinearity problems or that the design matrix is singular.\n",
      "                            OLS Regression Results                            \n",
      "==============================================================================\n",
      "Dep. Variable:                  price   R-squared:                       0.878\n",
      "Model:                            OLS   Adj. R-squared:                  0.864\n",
      "Method:                 Least Squares   F-statistic:                     59.71\n",
      "Date:                Sat, 23 Jan 2021   Prob (F-statistic):           3.03e-71\n",
      "Time:                        22:57:21   Log-Likelihood:                -1916.6\n",
      "No. Observations:                 205   AIC:                             3879.\n",
      "Df Residuals:                     182   BIC:                             3956.\n",
      "Df Model:                          22                                         \n",
      "Covariance Type:            nonrobust                                         \n",
      "==============================================================================\n",
      "                 coef    std err          t      P>|t|      [0.025      0.975]\n",
      "------------------------------------------------------------------------------\n",
      "const      -1.266e+04   1.08e+04     -1.176      0.241   -3.39e+04    8568.990\n",
      "x1          4079.3510   7106.496      0.574      0.567   -9942.363    1.81e+04\n",
      "x2         -7629.1525   5562.744     -1.371      0.172   -1.86e+04    3346.609\n",
      "x3         -5026.4112   5221.657     -0.963      0.337   -1.53e+04    5276.357\n",
      "x4          -309.0422    530.274     -0.583      0.561   -1355.317     737.233\n",
      "x5          2399.0302   1374.203      1.746      0.083    -312.388    5110.449\n",
      "x6         -1332.8038   1281.168     -1.040      0.300   -3860.657    1195.049\n",
      "x7          -452.4955   1227.108     -0.369      0.713   -2873.682    1968.691\n",
      "x8          1.297e+04   2351.517      5.516      0.000    8331.276    1.76e+04\n",
      "x9          -355.3380   1160.815     -0.306      0.760   -2645.724    1935.048\n",
      "x10        -1660.8485   1179.843     -1.408      0.161   -3988.778     667.081\n",
      "x11         5209.0015   4582.279      1.137      0.257   -3832.220    1.43e+04\n",
      "x12         6622.7040   2890.189      2.291      0.023     920.118    1.23e+04\n",
      "x13         1640.5243   3130.765      0.524      0.601   -4536.738    7817.787\n",
      "x14        -3130.3187   2881.437     -1.086      0.279   -8815.637    2555.000\n",
      "x15         -239.3691   2727.332     -0.088      0.930   -5620.625    5141.887\n",
      "x16         -915.6418    601.389     -1.523      0.130   -2102.233     270.949\n",
      "x17        -2342.0981   3409.567     -0.687      0.493   -9069.460    4385.264\n",
      "x18        -2689.0496   1371.167     -1.961      0.051   -5394.478      16.379\n",
      "x19          225.8991    121.441      1.860      0.064     -13.714     465.512\n",
      "x20          105.0704     15.224      6.902      0.000      75.032     135.109\n",
      "x21         1845.0348   1439.940      1.281      0.202    -996.087    4686.157\n",
      "x22          309.7213    511.503      0.606      0.546    -699.517    1318.960\n",
      "x23         -107.1980     76.967     -1.393      0.165    -259.060      44.664\n",
      "==============================================================================\n",
      "Omnibus:                       66.970   Durbin-Watson:                   1.095\n",
      "Prob(Omnibus):                  0.000   Jarque-Bera (JB):              451.402\n",
      "Skew:                           1.045   Prob(JB):                     9.54e-99\n",
      "Kurtosis:                       9.963   Cond. No.                     2.17e+18\n",
      "==============================================================================\n",
      "\n",
      "Notes:\n",
      "[1] Standard Errors assume that the covariance matrix of the errors is correctly specified.\n",
      "[2] The smallest eigenvalue is 9.19e-31. This might indicate that there are\n",
      "strong multicollinearity problems or that the design matrix is singular.\n"
     ]
    }
   ],
   "source": [
    "#applying backward ilimination\n",
    "import statsmodels.api as sm\n",
    "x=np.append(arr=np.ones((205,1)).astype(int),values=x,axis=1)\n",
    "x_opt =x[:,[0,1,2,3,4,5,6,7,8,9,10,11,12,13,14,15,16,17,18,19,20,21,22,23,24,25,26,27,28,29,30,31,32,33,34,35,36,37,38,39,40,41,42,43,44,45,46,47,48,49,50,51]]\n",
    "regressor_OLS = sm.OLS(endog = y, exog= x_opt).fit()\n",
    "print(regressor_OLS.summary())\n",
    "x_opt =x[:,[0,1,2,3,5,6,7,11,15,18,20,22,23,24,25,26,31,32,36,42,44,45,47,50]]\n",
    "regressor_OLS = sm.OLS(endog = y, exog= x_opt).fit()\n",
    "print(regressor_OLS.summary())\n"
   ]
  },
  {
   "cell_type": "code",
   "execution_count": 15,
   "metadata": {},
   "outputs": [
    {
     "data": {
      "text/plain": [
       "LinearRegression()"
      ]
     },
     "execution_count": 15,
     "metadata": {},
     "output_type": "execute_result"
    }
   ],
   "source": [
    "#new reg\n",
    "from sklearn.linear_model import LinearRegression\n",
    "mlr=LinearRegression()\n",
    "mlr.fit(x_opt,y)"
   ]
  }
 ],
 "metadata": {
  "kernelspec": {
   "display_name": "Python 3",
   "language": "python",
   "name": "python3"
  },
  "language_info": {
   "codemirror_mode": {
    "name": "ipython",
    "version": 3
   },
   "file_extension": ".py",
   "mimetype": "text/x-python",
   "name": "python",
   "nbconvert_exporter": "python",
   "pygments_lexer": "ipython3",
   "version": "3.8.5"
  }
 },
 "nbformat": 4,
 "nbformat_minor": 4
}
